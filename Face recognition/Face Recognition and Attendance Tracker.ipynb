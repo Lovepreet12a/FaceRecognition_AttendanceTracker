{
 "cells": [
  {
   "cell_type": "markdown",
   "id": "9f6353e2",
   "metadata": {},
   "source": [
    "# Face Recognition Plus Attendance tracker"
   ]
  },
  {
   "cell_type": "code",
   "execution_count": null,
   "id": "a9b43873",
   "metadata": {},
   "outputs": [],
   "source": [
    "import warnings\n",
    "warnings.filterwarnings(\"ignore\")"
   ]
  },
  {
   "cell_type": "code",
   "execution_count": null,
   "id": "a1fb168d",
   "metadata": {},
   "outputs": [],
   "source": [
    "pip install cmake"
   ]
  },
  {
   "cell_type": "code",
   "execution_count": null,
   "id": "23a649ff",
   "metadata": {},
   "outputs": [],
   "source": [
    "import face_recognition"
   ]
  },
  {
   "cell_type": "code",
   "execution_count": null,
   "id": "7d50a847",
   "metadata": {},
   "outputs": [],
   "source": [
    "import numpy as np\n",
    "import cv2"
   ]
  },
  {
   "cell_type": "code",
   "execution_count": null,
   "id": "5cee6fe5",
   "metadata": {},
   "outputs": [],
   "source": [
    "ImgElon = face_recognition.load_image_file(\"Elon Mask.jpg\")\n",
    "ImgElon = cv2.cvtColor(ImgElon, cv2.COLOR_BGR2RGB)\n",
    "\n",
    "ImgTest = face_recognition.load_image_file(\"Elon Mask test.jfif\")\n",
    "ImgTest = cv2.cvtColor(ImgTest, cv2.COLOR_BGR2RGB)\n",
    "\n",
    "faceloc = face_recognition.face_locations(ImgElon)[0]\n",
    "encodeElon = face_recognition.face_encodings(ImgElon)[0]\n",
    "cv2.rectangle(ImgElon, (faceloc[3], faceloc[0]), (faceloc[1],faceloc[2]), (255,0,255),2)\n",
    "\n",
    "facelocTest = face_recognition.face_locations(ImgTest)[0]\n",
    "encodeTest = face_recognition.face_encodings(ImgTest)[0]\n",
    "cv2.rectangle(ImgTest, (facelocTest[3], facelocTest[0]), (facelocTest[1],facelocTest[2]), (255,0,255),2)\n",
    "\n",
    "results = face_recognition.compare_faces([encodeElon], encodeTest)\n",
    "facedis = face_recognition.face_distance([encodeElon], encodeTest)\n",
    "print(results, facedis)\n",
    "cv2.putText(ImgTest, f'{results} {round(facedis[0],2)}',(50,50), cv2.FONT_HERSHEY_COMPLEX, 1, (0,0,255), 2)\n",
    "\n",
    "\n",
    "cv2.imshow(\"Elon Musk\", ImgElon)\n",
    "cv2.imshow(\"Elon Test\", ImgTest)\n",
    "cv2.waitKey(0)\n",
    "cv2.destroyAllWindows()"
   ]
  },
  {
   "cell_type": "code",
   "execution_count": null,
   "id": "1025d338",
   "metadata": {},
   "outputs": [],
   "source": [
    "import os"
   ]
  },
  {
   "cell_type": "code",
   "execution_count": null,
   "id": "89d88cd9",
   "metadata": {},
   "outputs": [],
   "source": [
    "path = 'ImageAttendance'\n",
    "images = []\n",
    "classNames = []\n",
    "myList = os.listdir(path)\n",
    "print(myList)\n",
    "for cls in myList:\n",
    "    curImg = cv2.imread(f'{path}/{cls}')\n",
    "    images.append(curImg)\n",
    "    classNames.append(os.path.splitext(cls)[0])\n",
    "print(classNames)\n",
    "\n",
    "def FindEncodings(images):\n",
    "    encodelist = []\n",
    "    for img in images:\n",
    "        img = cv2.cvtColor(img, cv2.COLOR_BGR2RGB)\n",
    "        encode = face_recognition.face_encodings(img)[0]\n",
    "        encodelist.append(encode)\n",
    "    return encodelist\n",
    "\n",
    "encodeListKnown = FindEncodings(images)\n",
    "print(\"Encoding Complete\")\n",
    "\n",
    "\n",
    "cap = cv2.VideoCapture(0)\n",
    "\n",
    "while True:\n",
    "    success, img = cap.read()\n",
    "    imgS = cv2.resize(img, (0,0), None, 0.25, 0.25)\n",
    "    imgS = cv2.cvtColor(imgS, cv2.COLOR_BGR2RGB)\n",
    "    \n",
    "    FacesCurrentFrame = face_recognition.face_locations(imgS)\n",
    "    encodeCurrentFrame = face_recognition.face_encodings(imgS, FacesCurrentFrame)\n",
    "    \n",
    "    for encodeFace, faceloc in zip(encodeCurrentFrame, FacesCurrentFrame):\n",
    "        matches = face_recognition.compare_faces(encodeListKnown, encodeFace)\n",
    "        faceDis = face_recognition.face_distance(encodeListKnown, encodeFace)\n",
    "        # print(faceDis)\n",
    "        matchindex = np.argmin(faceDis)\n",
    "        \n",
    "        if matches[matchindex]:\n",
    "            name = classNames[matchindex].upper()\n",
    "            # print(name)\n",
    "            y1,x2,y2,x1 = faceloc\n",
    "            y1,x2,y2,x1 = y1*4,x2*4,y2*4,x1*4\n",
    "            cv2.rectangle(img,(x1,y1),(x2,y2),(0,255,0),2)\n",
    "            cv2.rectangle(img,(x1,y2-35),(x2,y2),(0,255,0), cv2.FILLED)\n",
    "            cv2.putText(img, name, (x1+6,y2+6), cv2.FONT_HERSHEY_COMPLEX, 0.75, (255,255,255), 2)\n",
    "            \n",
    "    cv2.imshow(\"Webcam\", img)\n",
    "    cv2.waitKey(0)\n",
    "    cv2.destroyAllWindows()"
   ]
  },
  {
   "cell_type": "markdown",
   "id": "9200e276",
   "metadata": {},
   "source": [
    "# For Attendance"
   ]
  },
  {
   "cell_type": "code",
   "execution_count": null,
   "id": "ffd31ad4",
   "metadata": {},
   "outputs": [
    {
     "name": "stdout",
     "output_type": "stream",
     "text": [
      "['Bill gates.jpg', 'Elon Musk.jpg', 'Harmandeep.jpg', 'JackMa.jpg', 'Lovepreet.JPG']\n",
      "['Bill gates', 'Elon Musk', 'Harmandeep', 'JackMa', 'Lovepreet']\n",
      "Encoding Complete\n"
     ]
    }
   ],
   "source": [
    "from datetime import datetime\n",
    "\n",
    "path = 'ImageAttendance'\n",
    "images = []\n",
    "classNames = []\n",
    "myList = os.listdir(path)\n",
    "print(myList)\n",
    "for cls in myList:\n",
    "    curImg = cv2.imread(f'{path}/{cls}')\n",
    "    images.append(curImg)\n",
    "    classNames.append(os.path.splitext(cls)[0])\n",
    "print(classNames)\n",
    "\n",
    "def FindEncodings(images):\n",
    "    encodelist = []\n",
    "    for img in images:\n",
    "        img = cv2.cvtColor(img, cv2.COLOR_BGR2RGB)\n",
    "        encode = face_recognition.face_encodings(img)[0]\n",
    "        encodelist.append(encode)\n",
    "    return encodelist\n",
    "\n",
    "def markAttendance(name):\n",
    "    with open(\"Attendance.csv\", \"r+\") as f:\n",
    "        myDataList = f.readlines()\n",
    "        nameList = []\n",
    "        for line in myDataList:\n",
    "            entry = line.split(\",\")\n",
    "            nameList.append(entry[0])\n",
    "        if name not in nameList:\n",
    "            now = datetime.now()\n",
    "            dtString = now.strftime(\"%H:%M:%S\")\n",
    "            f.writelines(f\"\\n{name},{dtString}\")\n",
    "\n",
    "encodeListKnown = FindEncodings(images)\n",
    "print(\"Encoding Complete\")\n",
    "\n",
    "\n",
    "cap = cv2.VideoCapture(0)\n",
    "\n",
    "while True:\n",
    "    success, img = cap.read()\n",
    "    imgS = cv2.resize(img, (0,0), None, 0.25, 0.25)\n",
    "    imgS = cv2.cvtColor(imgS, cv2.COLOR_BGR2RGB)\n",
    "    \n",
    "    FacesCurrentFrame = face_recognition.face_locations(imgS)\n",
    "    encodeCurrentFrame = face_recognition.face_encodings(imgS, FacesCurrentFrame)\n",
    "    \n",
    "    for encodeFace, faceloc in zip(encodeCurrentFrame, FacesCurrentFrame):\n",
    "        matches = face_recognition.compare_faces(encodeListKnown, encodeFace)\n",
    "        faceDis = face_recognition.face_distance(encodeListKnown, encodeFace)\n",
    "        # print(faceDis)\n",
    "        matchindex = np.argmin(faceDis)\n",
    "        \n",
    "        if matches[matchindex]:\n",
    "            name = classNames[matchindex].upper()\n",
    "            # print(name)\n",
    "            y1,x2,y2,x1 = faceloc\n",
    "            y1,x2,y2,x1 = y1*4,x2*4,y2*4,x1*4\n",
    "            cv2.rectangle(img,(x1,y1),(x2,y2),(0,255,0),2)\n",
    "            cv2.rectangle(img,(x1,y2-35),(x2,y2),(0,255,0), cv2.FILLED)\n",
    "            cv2.putText(img, name, (x1+6,y2+6), cv2.FONT_HERSHEY_COMPLEX, 0.75, (255,255,255), 2)\n",
    "            markAttendance(name)\n",
    "            \n",
    "    cv2.imshow(\"Webcam\", img)\n",
    "    cv2.waitKey(1)\n",
    "    #cv2.destroyAllWindows()"
   ]
  }
 ],
 "metadata": {
  "kernelspec": {
   "display_name": "Python 3 (ipykernel)",
   "language": "python",
   "name": "python3"
  },
  "language_info": {
   "codemirror_mode": {
    "name": "ipython",
    "version": 3
   },
   "file_extension": ".py",
   "mimetype": "text/x-python",
   "name": "python",
   "nbconvert_exporter": "python",
   "pygments_lexer": "ipython3",
   "version": "3.9.12"
  }
 },
 "nbformat": 4,
 "nbformat_minor": 5
}
